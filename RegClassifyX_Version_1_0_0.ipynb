{
  "cells": [
    {
      "cell_type": "markdown",
      "metadata": {
        "id": "4FPCYEderNXz"
      },
      "source": [
        "#**Setting up Google Drive in Google Colab**\n",
        "The provided code snippet is used to authenticate and mount Google Drive in a Google Colab environment. This is particularly useful when you need to access files from your Google Drive or save files to it while working on a Colab notebook."
      ]
    },
    {
      "cell_type": "code",
      "execution_count": 2,
      "metadata": {
        "colab": {
          "base_uri": "https://localhost:8080/"
        },
        "id": "jAVdnyZNhma9",
        "outputId": "323b1066-0319-47bd-b2c6-b4eb4b8811fa"
      },
      "outputs": [
        {
          "name": "stdout",
          "output_type": "stream",
          "text": [
            "Drive already mounted at /content/gdrive; to attempt to forcibly remount, call drive.mount(\"/content/gdrive\", force_remount=True).\n"
          ]
        }
      ],
      "source": [
        "#Set google drive\n",
        "from google.colab import auth\n",
        "auth.authenticate_user()\n",
        "\n",
        "from google.colab import drive\n",
        "drive.mount('/content/gdrive')"
      ]
    },
    {
      "cell_type": "markdown",
      "metadata": {
        "id": "B6VKTv5RrccJ"
      },
      "source": [
        "#**Installing Necessary Libraries and Packages**\n",
        "The provided commands are used to install several Python libraries and packages that are essential for executing the project. These libraries provide various functionalities such as data manipulation, machine learning modeling, natural language processing, and generating PDF documents. Additionally, wkhtmltopdf is installed as it is a command-line tool required by pdfkit to convert HTML to PDF."
      ]
    },
    {
      "cell_type": "code",
      "execution_count": 4,
      "metadata": {
        "colab": {
          "base_uri": "https://localhost:8080/"
        },
        "id": "t3ZLPbXWjsPD",
        "outputId": "b6367773-c114-463d-ac2b-552c4fb12c81"
      },
      "outputs": [
        {
          "name": "stdout",
          "output_type": "stream",
          "text": [
            "Requirement already satisfied: numpy in /usr/local/lib/python3.10/dist-packages (1.23.5)\n",
            "Requirement already satisfied: pandas in /usr/local/lib/python3.10/dist-packages (1.5.3)\n",
            "Requirement already satisfied: scikit-learn in /usr/local/lib/python3.10/dist-packages (1.2.2)\n",
            "Requirement already satisfied: openpyxl in /usr/local/lib/python3.10/dist-packages (3.1.2)\n",
            "Requirement already satisfied: xlrd in /usr/local/lib/python3.10/dist-packages (2.0.1)\n",
            "Requirement already satisfied: python-dateutil>=2.8.1 in /usr/local/lib/python3.10/dist-packages (from pandas) (2.8.2)\n",
            "Requirement already satisfied: pytz>=2020.1 in /usr/local/lib/python3.10/dist-packages (from pandas) (2023.3.post1)\n",
            "Requirement already satisfied: scipy>=1.3.2 in /usr/local/lib/python3.10/dist-packages (from scikit-learn) (1.11.2)\n",
            "Requirement already satisfied: joblib>=1.1.1 in /usr/local/lib/python3.10/dist-packages (from scikit-learn) (1.3.2)\n",
            "Requirement already satisfied: threadpoolctl>=2.0.0 in /usr/local/lib/python3.10/dist-packages (from scikit-learn) (3.2.0)\n",
            "Requirement already satisfied: et-xmlfile in /usr/local/lib/python3.10/dist-packages (from openpyxl) (1.1.0)\n",
            "Requirement already satisfied: six>=1.5 in /usr/local/lib/python3.10/dist-packages (from python-dateutil>=2.8.1->pandas) (1.16.0)\n"
          ]
        }
      ],
      "source": [
        "!pip install numpy pandas scikit-learn openpyxl xlrd\n",
        "!pip install nltk\n",
        "!pip install openpyxl\n",
        "!pip install fpdf\n",
        "!apt-get install -y wkhtmltopdf\n",
        "!pip install pdfkit"
      ]
    },
    {
      "cell_type": "markdown",
      "metadata": {
        "id": "KRGuLKpBr5dt"
      },
      "source": [
        "#**Creation and Saving of Pre-Trained Model**\n",
        "This code snippet is focused on creating a pre-trained model for classifying post-approval variations. It starts by importing necessary libraries such as pandas for data manipulation, TfidfVectorizer for text feature extraction, MultinomialNB for implementing the Naive Bayes algorithm, and joblib for saving the model. The dataset is loaded, and it is split into training and testing sets. A pipeline is created using TF-IDF Vectorizer and Multinomial Naive Bayes, and the model is trained using the training data. Finally, the trained model is saved to a specified path, allowing it to be loaded and used later without retraining."
      ]
    },
    {
      "cell_type": "code",
      "execution_count": 48,
      "metadata": {
        "colab": {
          "base_uri": "https://localhost:8080/"
        },
        "id": "UZ7FhIJ3-ESI",
        "outputId": "74236d6c-1ae5-438e-95b7-dd048d5be20b"
      },
      "outputs": [
        {
          "name": "stdout",
          "output_type": "stream",
          "text": [
            "Model saved to /content/gdrive/My Drive/Colab Notebooks/Regclassifyx/regclassifyx_model.joblib\n"
          ]
        }
      ],
      "source": [
        "# Pre-Trained Model for Post Approval Variations Classifier\n",
        "\n",
        "import pandas as pd\n",
        "from sklearn.feature_extraction.text import TfidfVectorizer\n",
        "from sklearn.naive_bayes import MultinomialNB\n",
        "from sklearn.pipeline import make_pipeline\n",
        "from sklearn.model_selection import train_test_split\n",
        "import joblib\n",
        "\n",
        "# Load your dataset\n",
        "df = pd.read_excel('/content/gdrive/My Drive/Colab Notebooks/dataset.xlsx')\n",
        "\n",
        "# Split the dataset into training and testing sets\n",
        "X_train, X_test, y_train, y_test = train_test_split(df['Change'], df['Category'], test_size=0.2, random_state=42)\n",
        "\n",
        "# Create a model pipeline with TF-IDF Vectorizer and Multinomial Naive Bayes\n",
        "model = make_pipeline(TfidfVectorizer(), MultinomialNB())\n",
        "\n",
        "# Train the model\n",
        "model.fit(X_train, y_train)\n",
        "\n",
        "# Save the model to the specified path\n",
        "model_filename = '/content/gdrive/My Drive/Colab Notebooks/Regclassifyx/regclassifyx_model.joblib'\n",
        "joblib.dump(model, model_filename)\n",
        "print(f\"Model saved to {model_filename}\")"
      ]
    },
    {
      "cell_type": "markdown",
      "metadata": {
        "id": "kUfBf-CmsylI"
      },
      "source": [
        "#**Implementation of RegClassifyX Tool**\n",
        "This code represents the final implementation of the RegClassifyX tool, designed to classify post-approval variations. It begins by importing necessary libraries and modules, including pandas for data manipulation, joblib for loading the pre-trained model, pdfkit for converting HTML to PDF, and files from google.colab for downloading files. The pre-trained model and the dataset are loaded, and the user is prompted to enter the Change Description. The tool then predicts the Variation Category using the loaded model and finds the corresponding Change Type from the dataset. The output, along with additional information such as Reference and Author, is displayed, and a timestamp is generated to mark the time of generation. The tool then prepares a stylized HTML output, converts it to a PDF, and allows the user to download it. The HTML output is structured to look professional and official, providing a clear and concise representation of the results, and it includes a note emphasizing the responsible use of the tool due to its reliance on AI and ML models."
      ]
    },
    {
      "cell_type": "code",
      "execution_count": 60,
      "metadata": {
        "colab": {
          "base_uri": "https://localhost:8080/",
          "height": 191
        },
        "id": "dAFoVuoOAD3K",
        "outputId": "94fa380a-5b1c-4f6d-a6c1-3e0ff18d9f1c"
      },
      "outputs": [
        {
          "name": "stdout",
          "output_type": "stream",
          "text": [
            "Model loaded successfully!\n",
            "Enter the Change Description: Deletion of the solvent / diluent container from the pack\n",
            "\n",
            "RegClassifyX (Version: 1.0.0)- Post Approval Variations Classifier\n",
            "Change Description- Deletion of the solvent / diluent container from the pack\n",
            "Change Type: RCX007\n",
            "Variation Category: IB\n",
            "Reference- https://www.sukl.sk/buxus/docs/Registracie/Tlaciva/classification_guideline_adopted.pdf\n",
            "Author- Ganesh Waghule- (CMC Scientist- Post Approval Changes), Ashwini Kumawat- (CMC Scientist- Post Approval Changes)\n",
            "Note: This tool exemplifies the application of AI and ML models. Please use this resource with due diligence and consideration\n"
          ]
        },
        {
          "data": {
            "application/javascript": "\n    async function download(id, filename, size) {\n      if (!google.colab.kernel.accessAllowed) {\n        return;\n      }\n      const div = document.createElement('div');\n      const label = document.createElement('label');\n      label.textContent = `Downloading \"${filename}\": `;\n      div.appendChild(label);\n      const progress = document.createElement('progress');\n      progress.max = size;\n      div.appendChild(progress);\n      document.body.appendChild(div);\n\n      const buffers = [];\n      let downloaded = 0;\n\n      const channel = await google.colab.kernel.comms.open(id);\n      // Send a message to notify the kernel that we're ready.\n      channel.send({})\n\n      for await (const message of channel.messages) {\n        // Send a message to notify the kernel that we're ready.\n        channel.send({})\n        if (message.buffers) {\n          for (const buffer of message.buffers) {\n            buffers.push(buffer);\n            downloaded += buffer.byteLength;\n            progress.value = downloaded;\n          }\n        }\n      }\n      const blob = new Blob(buffers, {type: 'application/binary'});\n      const a = document.createElement('a');\n      a.href = window.URL.createObjectURL(blob);\n      a.download = filename;\n      div.appendChild(a);\n      a.click();\n      div.remove();\n    }\n  ",
            "text/plain": [
              "<IPython.core.display.Javascript object>"
            ]
          },
          "metadata": {},
          "output_type": "display_data"
        },
        {
          "data": {
            "application/javascript": "download(\"download_cfa45f87-13d9-45d9-8838-ed8ab7c7c826\", \"output.pdf\", 23465)",
            "text/plain": [
              "<IPython.core.display.Javascript object>"
            ]
          },
          "metadata": {},
          "output_type": "display_data"
        }
      ],
      "source": [
        "#Final Tool- RegClassifyX\n",
        "\n",
        "import pandas as pd\n",
        "import joblib\n",
        "import pdfkit\n",
        "from google.colab import files\n",
        "from datetime import datetime\n",
        "\n",
        "# Load the model\n",
        "model_filename = '/content/gdrive/My Drive/Colab Notebooks/Regclassifyx/regclassifyx_model.joblib'\n",
        "model = joblib.load(model_filename)\n",
        "print(\"Model loaded successfully!\")\n",
        "\n",
        "# Load your dataset\n",
        "df = pd.read_excel('/content/gdrive/My Drive/Colab Notebooks/dataset.xlsx')\n",
        "\n",
        "# User Input\n",
        "user_input = input(\"Enter the Change Description: \")\n",
        "\n",
        "# Predict Category\n",
        "predicted_category = model.predict([user_input])[0]\n",
        "\n",
        "# Find the corresponding 'Change Type' from the DataFrame\n",
        "matching_rows = df.loc[df['Change'] == user_input, 'Change Type']\n",
        "\n",
        "if not matching_rows.empty:\n",
        "    change_type = matching_rows.iloc[0]\n",
        "else:\n",
        "    change_type = \"No exact match found in the dataset for the entered Change Description\"\n",
        "\n",
        "# Displaying the Output\n",
        "print(\"\\nRegClassifyX (Version: 1.0.0)- Post Approval Variations Classifier\")\n",
        "print(f\"Change Description- {user_input}\")\n",
        "print(f\"Change Type: {change_type}\")\n",
        "print(f\"Variation Category: {predicted_category}\")\n",
        "print(\"Reference- https://www.sukl.sk/buxus/docs/Registracie/Tlaciva/classification_guideline_adopted.pdf\")\n",
        "print(\"Author- Ganesh Waghule- (CMC Scientist- Post Approval Changes), Ashwini Kumawat- (CMC Scientist- Post Approval Changes)\")\n",
        "print(\"Note: This tool exemplifies the application of AI and ML models. Please use this resource with due diligence and consideration\")\n",
        "\n",
        "# Get Current Date and Time\n",
        "now = datetime.now()\n",
        "current_time = now.strftime(\"%Y-%m-%d %H:%M:%S\")\n",
        "\n",
        "# Prepare HTML Output\n",
        "html_output = f\"\"\"\n",
        "<html>\n",
        "<head>\n",
        "    <style>\n",
        "        body {{\n",
        "            font-family: 'Arial', sans-serif;\n",
        "            background-color: #f4f4f4;\n",
        "            margin: 0;\n",
        "            padding: 0;\n",
        "        }}\n",
        "        .container {{\n",
        "            width: 50%;\n",
        "            margin: auto;\n",
        "        }}\n",
        "        header {{\n",
        "            background: #50b3a2;\n",
        "            color: white;\n",
        "            text-align: center;\n",
        "            padding: 1em;\n",
        "        }}\n",
        "        p {{\n",
        "            font-size: 18px;\n",
        "            line-height: 1.6em;\n",
        "            color: #666;\n",
        "        }}\n",
        "        a {{\n",
        "            color: #50b3a2;\n",
        "        }}\n",
        "        .timestamp {{\n",
        "            font-size: 14px;\n",
        "            color: #888;\n",
        "        }}\n",
        "        .note {{\n",
        "            font-size: 16px;\n",
        "            color: #888;\n",
        "            margin-top: 2em;\n",
        "            border-top: 1px solid #eee;\n",
        "            padding-top: 1em;\n",
        "        }}\n",
        "    </style>\n",
        "</head>\n",
        "<body>\n",
        "    <div class='container'>\n",
        "        <header>\n",
        "            <h1>RegClassifyX (Version: 1.0.0)- Post Approval Variations Classifier</h1>\n",
        "        </header>\n",
        "        <p><b>Change Description:</b> {user_input}</p>\n",
        "        <p><b>Change Type:</b> {change_type}</p>\n",
        "        <p><b>Variation Category:</b> {predicted_category}</p>\n",
        "        <p><b>Reference:</b> <a href='https://www.sukl.sk/buxus/docs/Registracie/Tlaciva/classification_guideline_adopted.pdf' target='_blank'>Classification Guideline</a></p>\n",
        "        <p><b>Author:</b> Ganesh Waghule- (CMC Scientist- Post Approval Changes), Ashwini Kumawat- (CMC Scientist- Post Approval Changes)</p>\n",
        "        <p class='timestamp'><i>Generated on: {current_time}</i></p>\n",
        "        <p class='note'><i>Note: This tool exemplifies the application of AI and ML models. Please use this resource with due diligence and consideration.</i></p>\n",
        "    </div>\n",
        "</body>\n",
        "</html>\n",
        "\"\"\"\n",
        "\n",
        "# Convert HTML to PDF\n",
        "pdfkit.from_string(html_output, 'output.pdf')\n",
        "\n",
        "# Download PDF\n",
        "files.download('output.pdf')"
      ]
    }
  ],
  "metadata": {
    "colab": {
      "provenance": []
    },
    "kernelspec": {
      "display_name": "Python 3",
      "name": "python3"
    },
    "language_info": {
      "name": "python"
    }
  },
  "nbformat": 4,
  "nbformat_minor": 0
}
